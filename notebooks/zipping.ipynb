{
 "cells": [
  {
   "cell_type": "code",
   "execution_count": 1,
   "metadata": {},
   "outputs": [],
   "source": [
    "from pathlib import Path\n",
    "from zipfile import ZipFile"
   ]
  },
  {
   "cell_type": "code",
   "execution_count": 16,
   "metadata": {},
   "outputs": [
    {
     "data": {
      "text/plain": [
       "True"
      ]
     },
     "execution_count": 16,
     "metadata": {},
     "output_type": "execute_result"
    }
   ],
   "source": [
    "dir_prj = Path.cwd().parent\n",
    "ge_pth = dir_prj / 'data' / 'processed' / 'geoenrichment'\n",
    "zip_pth = ge_pth / 'foursquare_geoenrichment.zip'\n",
    "\n",
    "ge_pth.exists()"
   ]
  },
  {
   "cell_type": "code",
   "execution_count": 19,
   "metadata": {},
   "outputs": [],
   "source": [
    "with ZipFile(zip_pth, mode='w', compresslevel=9) as zipper:\n",
    "\n",
    "    for gdb_file in ge_pth.glob('**/*.gdb/**/*'):\n",
    "        target_pth = str(gdb_file.relative_to(ge_pth))\n",
    "        zipper.write(gdb_file, target_pth)\n",
    "        \n",
    "    for xls_file in ge_pth.glob('XXX_FOURSQUARE_*_Metadata.xlsx'):\n",
    "        target_pth = str(xls_file.relative_to(ge_pth))\n",
    "        zipper.write(gdb_file, target_pth)"
   ]
  }
 ],
 "metadata": {
  "kernelspec": {
   "display_name": "Python 3 (ipykernel)",
   "language": "python",
   "name": "python3"
  },
  "language_info": {
   "codemirror_mode": {
    "name": "ipython",
    "version": 3
   },
   "file_extension": ".py",
   "mimetype": "text/x-python",
   "name": "python",
   "nbconvert_exporter": "python",
   "pygments_lexer": "ipython3",
   "version": "3.9.16"
  }
 },
 "nbformat": 4,
 "nbformat_minor": 4
}
