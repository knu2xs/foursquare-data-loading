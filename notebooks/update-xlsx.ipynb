{
 "cells": [
  {
   "cell_type": "code",
   "execution_count": 1,
   "id": "ff805334-ef98-4669-b556-b722a836b6c2",
   "metadata": {},
   "outputs": [],
   "source": [
    "import arcpy\n",
    "import pandas as pd"
   ]
  },
  {
   "cell_type": "code",
   "execution_count": 2,
   "id": "2a96483b-0ac9-43b1-8ef8-22374ed0efbe",
   "metadata": {},
   "outputs": [],
   "source": [
    "places = r'D:\\projects\\foursquare-geoenrichment-loading\\data\\processed\\geoenrichment\\foursquare.gdb\\places'\n",
    "xlsx_pth = r'D:\\projects\\foursquare-geoenrichment-loading\\data\\external\\XXX_FOURSQUARE_2023_Metadata.xlsx'"
   ]
  },
  {
   "cell_type": "code",
   "execution_count": 23,
   "id": "670f05ea-08eb-420c-a4be-342dcb8c9ff3",
   "metadata": {},
   "outputs": [],
   "source": [
    "xlsx_sheet = \"Layer\"\n",
    "col_name = 'SOURCE_FIELD'\n",
    "col_length = 'FIELD_LENGTH'\n",
    "\n",
    "# read the excel workbook sheet into a dataframe\n",
    "df = pd.read_excel(xlsx_pth, engine='openpyxl', sheet_name=xlsx_sheet, header=0)\n",
    "\n",
    "# get a data frame of field names and lengths from the feature class\n",
    "df_len = pd.DataFrame([(f.name, f.length) for f in arcpy.ListFields(places)], columns=['field_name', 'field_length']).set_index('field_name', drop=True)\n",
    "\n",
    "# create a data frame of lengths in the excel file and intropsected lengths\n",
    "df_update = df[[col_name, col_length]].join(df_len, on=col_name, how='left')\n",
    "\n",
    "# by comparing listed to observed, get a data frame of changed fields\n",
    "df_changes = df_update[df_update[col_length] != df_update['field_length']]\n",
    "\n",
    "# update the fields with an update value in original column...ensuring do not create nulls\n",
    "fltr = df_update['field_length'].notnull()\n",
    "df_update.loc[fltr, col_length] = df_update.loc[fltr, 'field_length']\n",
    "\n",
    "# fill in the introspected values in the original column\n",
    "df[col_length] = df_update[col_length]\n",
    "\n",
    "# replace the lengths with introspected values\n",
    "df[col_length] = df[col_name].apply(lambda fld_nm: fc_dict.get(fld_nm))\n",
    "\n",
    "# write the updated data frame back to the workbook sheet\n",
    "with pd.ExcelWriter(xlsx_pth, mode='a', engine='openpyxl', if_sheet_exists='replace') as xlsx_write:\n",
    "    df.to_excel(xlsx_write, sheet_name=xlsx_sheet, index=False)"
   ]
  },
  {
   "cell_type": "code",
   "execution_count": null,
   "id": "8960881d-da5e-435f-a53f-fac2b4febb01",
   "metadata": {},
   "outputs": [],
   "source": []
  }
 ],
 "metadata": {
  "kernelspec": {
   "display_name": "Python 3 (ipykernel)",
   "language": "python",
   "name": "python3"
  },
  "language_info": {
   "codemirror_mode": {
    "name": "ipython",
    "version": 3
   },
   "file_extension": ".py",
   "mimetype": "text/x-python",
   "name": "python",
   "nbconvert_exporter": "python",
   "pygments_lexer": "ipython3",
   "version": "3.9.16"
  }
 },
 "nbformat": 4,
 "nbformat_minor": 5
}
