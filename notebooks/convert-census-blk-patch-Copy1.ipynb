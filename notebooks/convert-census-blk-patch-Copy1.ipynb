{
 "cells": [
  {
   "cell_type": "code",
   "execution_count": 1,
   "metadata": {},
   "outputs": [],
   "source": [
    "import configparser\n",
    "import importlib\n",
    "import os\n",
    "from pathlib import Path\n",
    "import sys\n",
    "\n",
    "from arcgis.features import GeoAccessor\n",
    "import pandas as pd"
   ]
  },
  {
   "cell_type": "code",
   "execution_count": 2,
   "metadata": {},
   "outputs": [],
   "source": [
    "# paths to common data locations - NOTE: to convert any path to a raw string, simply use str(path_instance)\n",
    "dir_prj = Path.cwd().parent\n",
    "\n",
    "dir_data = dir_prj/'data'\n",
    "\n",
    "dir_raw = dir_data/'raw'\n",
    "dir_ext = dir_data/'external'\n",
    "dir_int = dir_data/'interim'\n",
    "dir_out = dir_data/'processed'\n",
    "\n",
    "gdb_raw = dir_raw/'raw.gdb'\n",
    "gdb_int = dir_int/'interim.gdb'\n",
    "gdb_out = dir_out/'processed.gdb'\n",
    "gdb_ext = dir_ext/'external.gdb'"
   ]
  },
  {
   "cell_type": "code",
   "execution_count": 3,
   "metadata": {},
   "outputs": [
    {
     "data": {
      "text/plain": [
       "WindowsPath('D:/projects/foursquare-geoenrichment-loading/data/interim/fsq_census_patch_202304.parquet')"
      ]
     },
     "execution_count": 3,
     "metadata": {},
     "output_type": "execute_result"
    }
   ],
   "source": [
    "pqt_pth = dir_int / \"fsq_census_patch_202304.parquet\"\n",
    "\n",
    "pqt_pth"
   ]
  },
  {
   "cell_type": "code",
   "execution_count": 4,
   "metadata": {},
   "outputs": [
    {
     "name": "stdout",
     "output_type": "stream",
     "text": [
      "<class 'pandas.core.frame.DataFrame'>\n",
      "RangeIndex: 22587657 entries, 0 to 22587656\n",
      "Data columns (total 2 columns):\n",
      " #   Column           Dtype \n",
      "---  ------           ----- \n",
      " 0   fsq_id           object\n",
      " 1   census_block_id  object\n",
      "dtypes: object(2)\n",
      "memory usage: 344.7+ MB\n"
     ]
    }
   ],
   "source": [
    "df = pd.read_parquet(pqt_pth)\n",
    "\n",
    "df.info()"
   ]
  },
  {
   "cell_type": "code",
   "execution_count": 5,
   "metadata": {},
   "outputs": [
    {
     "data": {
      "text/plain": [
       "15"
      ]
     },
     "execution_count": 5,
     "metadata": {},
     "output_type": "execute_result"
    }
   ],
   "source": [
    "df.iloc[:500]['census_block_id'].str.len().max()"
   ]
  },
  {
   "cell_type": "code",
   "execution_count": 6,
   "metadata": {},
   "outputs": [],
   "source": [
    "df.to_csv(dir_int /  \"fsq_census_patch_202304.csv\")"
   ]
  },
  {
   "cell_type": "code",
   "execution_count": null,
   "metadata": {},
   "outputs": [],
   "source": [
    "df.spatial.to_table(gdb_int / 'fsq_census_patch_202304')"
   ]
  },
  {
   "cell_type": "code",
   "execution_count": null,
   "metadata": {},
   "outputs": [],
   "source": [
    "dir_int.exists()"
   ]
  },
  {
   "cell_type": "code",
   "execution_count": null,
   "metadata": {},
   "outputs": [],
   "source": []
  }
 ],
 "metadata": {
  "kernelspec": {
   "display_name": "Python 3 (ipykernel)",
   "language": "python",
   "name": "python3"
  },
  "language_info": {
   "codemirror_mode": {
    "name": "ipython",
    "version": 3
   },
   "file_extension": ".py",
   "mimetype": "text/x-python",
   "name": "python",
   "nbconvert_exporter": "python",
   "pygments_lexer": "ipython3",
   "version": "3.9.16"
  }
 },
 "nbformat": 4,
 "nbformat_minor": 4
}
