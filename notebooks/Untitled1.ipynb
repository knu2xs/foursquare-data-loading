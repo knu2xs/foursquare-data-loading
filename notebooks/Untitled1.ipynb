{
 "cells": [
  {
   "cell_type": "code",
   "execution_count": 36,
   "id": "2e062168-65bd-4c63-a9d0-7ba17ab4ad02",
   "metadata": {},
   "outputs": [],
   "source": [
    "from pathlib import Path\n",
    "import random\n",
    "\n",
    "import arcpy\n",
    "import pandas as pd"
   ]
  },
  {
   "cell_type": "code",
   "execution_count": 37,
   "id": "36456235-196e-4e5d-9bd2-02faf542b572",
   "metadata": {},
   "outputs": [
    {
     "data": {
      "text/plain": [
       "('D:\\\\projects\\\\foursquare-geoenrichment-loading\\\\data\\\\processed\\\\geoenrichment\\\\foursquare.gdb\\\\places',\n",
       " 'D:\\\\projects\\\\foursquare-geoenrichment-loading\\\\data\\\\external\\\\XXX_FOURSQUARE_2023_Metadata.xlsx')"
      ]
     },
     "execution_count": 37,
     "metadata": {},
     "output_type": "execute_result"
    }
   ],
   "source": [
    "places = r\"D:\\projects\\foursquare-geoenrichment-loading\\data\\processed\\geoenrichment\\foursquare.gdb\\places\"\n",
    "xlsx_pth = r\"D:\\projects\\foursquare-geoenrichment-loading\\data\\external\\XXX_FOURSQUARE_2023_Metadata.xlsx\"\n",
    "\n",
    "gdb_int = Path(r\"D:\\projects\\foursquare-geoenrichment-loading\\data\\interim\\interim.gdb\")\n",
    "\n",
    "places, xlsx_pth"
   ]
  },
  {
   "cell_type": "code",
   "execution_count": 34,
   "id": "5765e070-72a4-4495-880d-f98a53b592e0",
   "metadata": {},
   "outputs": [],
   "source": [
    "def create_sample_layer(input_features, output_features, k=10):\n",
    "    \n",
    "    # ensure the path is a string if this is what is provided\n",
    "    if isinstance(intput_features, Path):\n",
    "        input_features = str(input_features)\n",
    "\n",
    "    # get the OID field name\n",
    "    oid_fld = arcpy.Describe(places).OIDFieldName\n",
    "\n",
    "    # get a list of OID's to select from\n",
    "    oid_lst = [r[0] for r in arcpy.da.SearchCursor(places, oid_fld)]\n",
    "\n",
    "    # create the query string to extract the data\n",
    "    sql_str = f'{oid_field} IN ({\",\".join(map(str, random.choices(oid_lst, k=10)))})'\n",
    "    \n",
    "    # create a layer to work with\n",
    "    lyr = arcpy.MakeFeatureLayer_management(input_features, out_layer='Sample Layer (k={k})', where_clause=sql_str)[0]\n",
    "    \n",
    "    # add the layer to the current map\n",
    "    aprx = arcpy.mp.ArcGISProject('CURRENT')\n",
    "    arcmap = aprx.activeMap\n",
    "    arcmap.addLayer(lyr)"
   ]
  },
  {
   "cell_type": "code",
   "execution_count": null,
   "id": "239f0627-d7b2-434b-8d09-31ad06088e1b",
   "metadata": {},
   "outputs": [],
   "source": [
    "map("
   ]
  }
 ],
 "metadata": {
  "kernelspec": {
   "display_name": "Python 3 (ipykernel)",
   "language": "python",
   "name": "python3"
  },
  "language_info": {
   "codemirror_mode": {
    "name": "ipython",
    "version": 3
   },
   "file_extension": ".py",
   "mimetype": "text/x-python",
   "name": "python",
   "nbconvert_exporter": "python",
   "pygments_lexer": "ipython3",
   "version": "3.9.16"
  }
 },
 "nbformat": 4,
 "nbformat_minor": 5
}
